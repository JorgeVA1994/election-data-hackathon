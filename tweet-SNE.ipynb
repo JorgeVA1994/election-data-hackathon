{
 "cells": [
  {
   "cell_type": "markdown",
   "metadata": {},
   "source": [
    "# tweet-SNE\n",
    "*A t-SNE encoding of TF-IDF of tweets from @HillaryClinton and @theRealDonaldTrump. By [Alexandra Johnson](https://twitter.com/alexandraj777) and [Sam Ainsworth](https://github.com/samuela).*\n",
    "\n",
    "t-SNE is a powerful tool for visualizing highly dimensional data. Roughly, the goal is to cluster similar tweets into similar areas of a 2-d graph. Here is a wonderful interactive [blog post](http://distill.pub/2016/misread-tsne/) to learn more about t-SNE.\n",
    "\n",
    "Here, we use [scikit-learn](http://scikit-learn.org/) to vectorize and find TF-IDF for [Hillary Clinton and Donald Trump tweets](https://github.com/WiMLDS/election-data-hackathon/tree/master/clinton-trump-tweets#hillary-clinton-and-donald-trump-tweets). We again use scikit learn with the default TSNE hyperparameters to form the t-SNE of the TF-IDF matrix. Finally, we use [plotly](plotcon.plot.ly) to graph the encoding, with @HillaryClinton tweets in blue and @DonaldTrump tweets in red. Hover over points in the graph to see the original text of the tweets.\n",
    "\n",
    "We've embedded the graph below ([link](https://plot.ly/~alexandraj777/2) for those of you viewing the notebook in a browser), but feel free to run the code and create the example for yourself!"
   ]
  },
  {
   "cell_type": "code",
   "execution_count": 1,
   "metadata": {
    "collapsed": false
   },
   "outputs": [
    {
     "data": {
      "text/html": [
       "<iframe id=\"igraph\" scrolling=\"no\" style=\"border:none;\" seamless=\"seamless\" src=\"https://plot.ly/~alexandraj777/2.embed\" height=\"525\" width=\"100%\"></iframe>"
      ],
      "text/plain": [
       "<plotly.tools.PlotlyDisplay object>"
      ]
     },
     "execution_count": 1,
     "metadata": {},
     "output_type": "execute_result"
    }
   ],
   "source": [
    "import plotly.tools as tls\n",
    "\n",
    "tls.embed(\"https://plot.ly/~alexandraj777/2\")"
   ]
  },
  {
   "cell_type": "markdown",
   "metadata": {},
   "source": [
    "## Run it yourself\n",
    "To run this example, you'll need to install the following libraries (we used `pip`):\n",
    " * numpy\n",
    " * pandas\n",
    " * plotly\n",
    " * scikit-learn\n",
    " * scipy\n",
    " \n",
    "You'll also need to download the `tweets.csv` file from [GitHub](https://github.com/WiMLDS/election-data-hackathon/tree/master/clinton-trump-tweets#hillary-clinton-and-donald-trump-tweets)."
   ]
  },
  {
   "cell_type": "code",
   "execution_count": null,
   "metadata": {
    "collapsed": false
   },
   "outputs": [],
   "source": [
    "import pandas as pd\n",
    "df = pd.read_csv('tweets.csv')"
   ]
  },
  {
   "cell_type": "code",
   "execution_count": null,
   "metadata": {
    "collapsed": true
   },
   "outputs": [],
   "source": [
    "from sklearn.feature_extraction.text import TfidfVectorizer\n",
    "tfidf = TfidfVectorizer().fit_transform(df['text'])"
   ]
  },
  {
   "cell_type": "code",
   "execution_count": null,
   "metadata": {
    "collapsed": true
   },
   "outputs": [],
   "source": [
    "from sklearn.manifold import TSNE\n",
    "tsne = TSNE().fit_transform(tfidf.toarray())"
   ]
  },
  {
   "cell_type": "code",
   "execution_count": null,
   "metadata": {
    "collapsed": true
   },
   "outputs": [],
   "source": [
    "df['color'] = df['handle'].map(lambda h: 'red' if h == 'realDonaldTrump' else 'blue')"
   ]
  },
  {
   "cell_type": "code",
   "execution_count": null,
   "metadata": {
    "collapsed": false
   },
   "outputs": [],
   "source": [
    "import plotly.offline as offline\n",
    "import plotly.graph_objs as go\n",
    "\n",
    "offline.init_notebook_mode()"
   ]
  },
  {
   "cell_type": "code",
   "execution_count": null,
   "metadata": {
    "collapsed": false
   },
   "outputs": [],
   "source": [
    "offline.iplot(dict(\n",
    "    data=[\n",
    "        go.Scattergl(\n",
    "            x=tsne[:, 0],\n",
    "            y=tsne[:, 1],\n",
    "            text=df['text'],\n",
    "            hoverinfo='text',\n",
    "            marker=dict(\n",
    "                size='8',\n",
    "                color=df['color'],\n",
    "                opacity=0.7,\n",
    "            ),\n",
    "            mode='markers'\n",
    "        ),\n",
    "    ], \n",
    "    layout=go.Layout(\n",
    "        title=\"tweet-SNE\",\n",
    "        font=dict(size=16),\n",
    "        xaxis=dict(\n",
    "            showgrid=False,\n",
    "            zeroline=False,\n",
    "            showline=False,\n",
    "            showticklabels=False,\n",
    "        ),\n",
    "        yaxis=dict(\n",
    "            showgrid=False,\n",
    "            zeroline=False,\n",
    "            showline=False,\n",
    "            showticklabels=False,\n",
    "        )\n",
    "    ),\n",
    "))"
   ]
  }
 ],
 "metadata": {
  "kernelspec": {
   "display_name": "Python 2",
   "language": "python",
   "name": "python2"
  },
  "language_info": {
   "codemirror_mode": {
    "name": "ipython",
    "version": 2
   },
   "file_extension": ".py",
   "mimetype": "text/x-python",
   "name": "python",
   "nbconvert_exporter": "python",
   "pygments_lexer": "ipython2",
   "version": "2.7.10"
  }
 },
 "nbformat": 4,
 "nbformat_minor": 0
}
